{
  "nbformat": 4,
  "nbformat_minor": 0,
  "metadata": {
    "colab": {
      "provenance": [],
      "toc_visible": true
    },
    "kernelspec": {
      "name": "python3",
      "display_name": "Python 3"
    },
    "language_info": {
      "name": "python"
    }
  },
  "cells": [
    {
      "cell_type": "markdown",
      "source": [
        "#Content\n",
        "1. [Review of models built during the cohort](##Review-of-Models-Building:)\n",
        "2. Converting models to deployable formats\n",
        "3. Saving Model for Future training an deployment.\n",
        "4. Reloading Saved Model\n",
        "5. Deployment ML Model on Flask\n",
        "6. Deployment ML Model on Gradio\n",
        "7. Deployment ML Model on EC2 Instance\n"
      ],
      "metadata": {
        "id": "Ui_OZ6t0OsOV"
      }
    },
    {
      "cell_type": "markdown",
      "source": [
        " ## Review of Models Building:\n",
        "\n",
        "\n"
      ],
      "metadata": {
        "id": "U4KG_jWDQh0C"
      }
    },
    {
      "cell_type": "markdown",
      "source": [
        "Throughout our journey, we've considered machine learning, exploring various methods of building models from scratch. Now, let's revisit one of the models we've encountered earlier – the RandomForestClassifier – and apply it to a classic dataset, the Iris dataset.\n",
        "\n",
        "RandomForestClassifier with the Iris Dataset\n",
        "The Iris dataset is a well-known dataset in the machine learning community, often used for classification tasks. It consists of 150 samples of iris flowers, with each sample having four features: sepal length, sepal width, petal length, and petal width. The task is to classify each sample into one of three species: setosa, versicolor, or virginica."
      ],
      "metadata": {
        "id": "BbXRawNTQ1xW"
      }
    },
    {
      "cell_type": "code",
      "execution_count": null,
      "metadata": {
        "id": "3g7vBu_GNI9o"
      },
      "outputs": [],
      "source": [
        "# Example scikit-learn model (e.g., RandomForestClassifier)\n",
        "from sklearn.ensemble import RandomForestClassifier\n",
        "from sklearn.datasets import load_iris\n",
        "\n",
        "# Load iris dataset for demonstration\n",
        "iris = load_iris()\n",
        "X, y = iris.data, iris.target"
      ]
    },
    {
      "cell_type": "code",
      "source": [
        "import pandas as pd\n",
        "# Convert iris data to pandas dataframe\n",
        "iris_df = pd.DataFrame(data=X, columns=iris.feature_names)\n",
        "\n",
        "\n",
        "iris_df.head()"
      ],
      "metadata": {
        "colab": {
          "base_uri": "https://localhost:8080/",
          "height": 206
        },
        "id": "8lNKLdkuUi63",
        "outputId": "3b8e9678-649f-47ae-f99a-1ac1bf08fcb4"
      },
      "execution_count": null,
      "outputs": [
        {
          "output_type": "execute_result",
          "data": {
            "text/plain": [
              "   sepal length (cm)  sepal width (cm)  petal length (cm)  petal width (cm)\n",
              "0                5.1               3.5                1.4               0.2\n",
              "1                4.9               3.0                1.4               0.2\n",
              "2                4.7               3.2                1.3               0.2\n",
              "3                4.6               3.1                1.5               0.2\n",
              "4                5.0               3.6                1.4               0.2"
            ],
            "text/html": [
              "\n",
              "  <div id=\"df-80323573-7525-4e7d-b02c-40611f96638d\" class=\"colab-df-container\">\n",
              "    <div>\n",
              "<style scoped>\n",
              "    .dataframe tbody tr th:only-of-type {\n",
              "        vertical-align: middle;\n",
              "    }\n",
              "\n",
              "    .dataframe tbody tr th {\n",
              "        vertical-align: top;\n",
              "    }\n",
              "\n",
              "    .dataframe thead th {\n",
              "        text-align: right;\n",
              "    }\n",
              "</style>\n",
              "<table border=\"1\" class=\"dataframe\">\n",
              "  <thead>\n",
              "    <tr style=\"text-align: right;\">\n",
              "      <th></th>\n",
              "      <th>sepal length (cm)</th>\n",
              "      <th>sepal width (cm)</th>\n",
              "      <th>petal length (cm)</th>\n",
              "      <th>petal width (cm)</th>\n",
              "    </tr>\n",
              "  </thead>\n",
              "  <tbody>\n",
              "    <tr>\n",
              "      <th>0</th>\n",
              "      <td>5.1</td>\n",
              "      <td>3.5</td>\n",
              "      <td>1.4</td>\n",
              "      <td>0.2</td>\n",
              "    </tr>\n",
              "    <tr>\n",
              "      <th>1</th>\n",
              "      <td>4.9</td>\n",
              "      <td>3.0</td>\n",
              "      <td>1.4</td>\n",
              "      <td>0.2</td>\n",
              "    </tr>\n",
              "    <tr>\n",
              "      <th>2</th>\n",
              "      <td>4.7</td>\n",
              "      <td>3.2</td>\n",
              "      <td>1.3</td>\n",
              "      <td>0.2</td>\n",
              "    </tr>\n",
              "    <tr>\n",
              "      <th>3</th>\n",
              "      <td>4.6</td>\n",
              "      <td>3.1</td>\n",
              "      <td>1.5</td>\n",
              "      <td>0.2</td>\n",
              "    </tr>\n",
              "    <tr>\n",
              "      <th>4</th>\n",
              "      <td>5.0</td>\n",
              "      <td>3.6</td>\n",
              "      <td>1.4</td>\n",
              "      <td>0.2</td>\n",
              "    </tr>\n",
              "  </tbody>\n",
              "</table>\n",
              "</div>\n",
              "    <div class=\"colab-df-buttons\">\n",
              "\n",
              "  <div class=\"colab-df-container\">\n",
              "    <button class=\"colab-df-convert\" onclick=\"convertToInteractive('df-80323573-7525-4e7d-b02c-40611f96638d')\"\n",
              "            title=\"Convert this dataframe to an interactive table.\"\n",
              "            style=\"display:none;\">\n",
              "\n",
              "  <svg xmlns=\"http://www.w3.org/2000/svg\" height=\"24px\" viewBox=\"0 -960 960 960\">\n",
              "    <path d=\"M120-120v-720h720v720H120Zm60-500h600v-160H180v160Zm220 220h160v-160H400v160Zm0 220h160v-160H400v160ZM180-400h160v-160H180v160Zm440 0h160v-160H620v160ZM180-180h160v-160H180v160Zm440 0h160v-160H620v160Z\"/>\n",
              "  </svg>\n",
              "    </button>\n",
              "\n",
              "  <style>\n",
              "    .colab-df-container {\n",
              "      display:flex;\n",
              "      gap: 12px;\n",
              "    }\n",
              "\n",
              "    .colab-df-convert {\n",
              "      background-color: #E8F0FE;\n",
              "      border: none;\n",
              "      border-radius: 50%;\n",
              "      cursor: pointer;\n",
              "      display: none;\n",
              "      fill: #1967D2;\n",
              "      height: 32px;\n",
              "      padding: 0 0 0 0;\n",
              "      width: 32px;\n",
              "    }\n",
              "\n",
              "    .colab-df-convert:hover {\n",
              "      background-color: #E2EBFA;\n",
              "      box-shadow: 0px 1px 2px rgba(60, 64, 67, 0.3), 0px 1px 3px 1px rgba(60, 64, 67, 0.15);\n",
              "      fill: #174EA6;\n",
              "    }\n",
              "\n",
              "    .colab-df-buttons div {\n",
              "      margin-bottom: 4px;\n",
              "    }\n",
              "\n",
              "    [theme=dark] .colab-df-convert {\n",
              "      background-color: #3B4455;\n",
              "      fill: #D2E3FC;\n",
              "    }\n",
              "\n",
              "    [theme=dark] .colab-df-convert:hover {\n",
              "      background-color: #434B5C;\n",
              "      box-shadow: 0px 1px 3px 1px rgba(0, 0, 0, 0.15);\n",
              "      filter: drop-shadow(0px 1px 2px rgba(0, 0, 0, 0.3));\n",
              "      fill: #FFFFFF;\n",
              "    }\n",
              "  </style>\n",
              "\n",
              "    <script>\n",
              "      const buttonEl =\n",
              "        document.querySelector('#df-80323573-7525-4e7d-b02c-40611f96638d button.colab-df-convert');\n",
              "      buttonEl.style.display =\n",
              "        google.colab.kernel.accessAllowed ? 'block' : 'none';\n",
              "\n",
              "      async function convertToInteractive(key) {\n",
              "        const element = document.querySelector('#df-80323573-7525-4e7d-b02c-40611f96638d');\n",
              "        const dataTable =\n",
              "          await google.colab.kernel.invokeFunction('convertToInteractive',\n",
              "                                                    [key], {});\n",
              "        if (!dataTable) return;\n",
              "\n",
              "        const docLinkHtml = 'Like what you see? Visit the ' +\n",
              "          '<a target=\"_blank\" href=https://colab.research.google.com/notebooks/data_table.ipynb>data table notebook</a>'\n",
              "          + ' to learn more about interactive tables.';\n",
              "        element.innerHTML = '';\n",
              "        dataTable['output_type'] = 'display_data';\n",
              "        await google.colab.output.renderOutput(dataTable, element);\n",
              "        const docLink = document.createElement('div');\n",
              "        docLink.innerHTML = docLinkHtml;\n",
              "        element.appendChild(docLink);\n",
              "      }\n",
              "    </script>\n",
              "  </div>\n",
              "\n",
              "\n",
              "<div id=\"df-0955c373-6f14-4311-a79e-97ef718dda92\">\n",
              "  <button class=\"colab-df-quickchart\" onclick=\"quickchart('df-0955c373-6f14-4311-a79e-97ef718dda92')\"\n",
              "            title=\"Suggest charts\"\n",
              "            style=\"display:none;\">\n",
              "\n",
              "<svg xmlns=\"http://www.w3.org/2000/svg\" height=\"24px\"viewBox=\"0 0 24 24\"\n",
              "     width=\"24px\">\n",
              "    <g>\n",
              "        <path d=\"M19 3H5c-1.1 0-2 .9-2 2v14c0 1.1.9 2 2 2h14c1.1 0 2-.9 2-2V5c0-1.1-.9-2-2-2zM9 17H7v-7h2v7zm4 0h-2V7h2v10zm4 0h-2v-4h2v4z\"/>\n",
              "    </g>\n",
              "</svg>\n",
              "  </button>\n",
              "\n",
              "<style>\n",
              "  .colab-df-quickchart {\n",
              "      --bg-color: #E8F0FE;\n",
              "      --fill-color: #1967D2;\n",
              "      --hover-bg-color: #E2EBFA;\n",
              "      --hover-fill-color: #174EA6;\n",
              "      --disabled-fill-color: #AAA;\n",
              "      --disabled-bg-color: #DDD;\n",
              "  }\n",
              "\n",
              "  [theme=dark] .colab-df-quickchart {\n",
              "      --bg-color: #3B4455;\n",
              "      --fill-color: #D2E3FC;\n",
              "      --hover-bg-color: #434B5C;\n",
              "      --hover-fill-color: #FFFFFF;\n",
              "      --disabled-bg-color: #3B4455;\n",
              "      --disabled-fill-color: #666;\n",
              "  }\n",
              "\n",
              "  .colab-df-quickchart {\n",
              "    background-color: var(--bg-color);\n",
              "    border: none;\n",
              "    border-radius: 50%;\n",
              "    cursor: pointer;\n",
              "    display: none;\n",
              "    fill: var(--fill-color);\n",
              "    height: 32px;\n",
              "    padding: 0;\n",
              "    width: 32px;\n",
              "  }\n",
              "\n",
              "  .colab-df-quickchart:hover {\n",
              "    background-color: var(--hover-bg-color);\n",
              "    box-shadow: 0 1px 2px rgba(60, 64, 67, 0.3), 0 1px 3px 1px rgba(60, 64, 67, 0.15);\n",
              "    fill: var(--button-hover-fill-color);\n",
              "  }\n",
              "\n",
              "  .colab-df-quickchart-complete:disabled,\n",
              "  .colab-df-quickchart-complete:disabled:hover {\n",
              "    background-color: var(--disabled-bg-color);\n",
              "    fill: var(--disabled-fill-color);\n",
              "    box-shadow: none;\n",
              "  }\n",
              "\n",
              "  .colab-df-spinner {\n",
              "    border: 2px solid var(--fill-color);\n",
              "    border-color: transparent;\n",
              "    border-bottom-color: var(--fill-color);\n",
              "    animation:\n",
              "      spin 1s steps(1) infinite;\n",
              "  }\n",
              "\n",
              "  @keyframes spin {\n",
              "    0% {\n",
              "      border-color: transparent;\n",
              "      border-bottom-color: var(--fill-color);\n",
              "      border-left-color: var(--fill-color);\n",
              "    }\n",
              "    20% {\n",
              "      border-color: transparent;\n",
              "      border-left-color: var(--fill-color);\n",
              "      border-top-color: var(--fill-color);\n",
              "    }\n",
              "    30% {\n",
              "      border-color: transparent;\n",
              "      border-left-color: var(--fill-color);\n",
              "      border-top-color: var(--fill-color);\n",
              "      border-right-color: var(--fill-color);\n",
              "    }\n",
              "    40% {\n",
              "      border-color: transparent;\n",
              "      border-right-color: var(--fill-color);\n",
              "      border-top-color: var(--fill-color);\n",
              "    }\n",
              "    60% {\n",
              "      border-color: transparent;\n",
              "      border-right-color: var(--fill-color);\n",
              "    }\n",
              "    80% {\n",
              "      border-color: transparent;\n",
              "      border-right-color: var(--fill-color);\n",
              "      border-bottom-color: var(--fill-color);\n",
              "    }\n",
              "    90% {\n",
              "      border-color: transparent;\n",
              "      border-bottom-color: var(--fill-color);\n",
              "    }\n",
              "  }\n",
              "</style>\n",
              "\n",
              "  <script>\n",
              "    async function quickchart(key) {\n",
              "      const quickchartButtonEl =\n",
              "        document.querySelector('#' + key + ' button');\n",
              "      quickchartButtonEl.disabled = true;  // To prevent multiple clicks.\n",
              "      quickchartButtonEl.classList.add('colab-df-spinner');\n",
              "      try {\n",
              "        const charts = await google.colab.kernel.invokeFunction(\n",
              "            'suggestCharts', [key], {});\n",
              "      } catch (error) {\n",
              "        console.error('Error during call to suggestCharts:', error);\n",
              "      }\n",
              "      quickchartButtonEl.classList.remove('colab-df-spinner');\n",
              "      quickchartButtonEl.classList.add('colab-df-quickchart-complete');\n",
              "    }\n",
              "    (() => {\n",
              "      let quickchartButtonEl =\n",
              "        document.querySelector('#df-0955c373-6f14-4311-a79e-97ef718dda92 button');\n",
              "      quickchartButtonEl.style.display =\n",
              "        google.colab.kernel.accessAllowed ? 'block' : 'none';\n",
              "    })();\n",
              "  </script>\n",
              "</div>\n",
              "\n",
              "    </div>\n",
              "  </div>\n"
            ]
          },
          "metadata": {},
          "execution_count": 13
        }
      ]
    },
    {
      "cell_type": "code",
      "source": [
        "#test train split\n",
        "\n",
        "from sklearn.model_selection import train_test_split\n",
        "X_train, X_test, y_train, y_test = train_test_split(X, y, test_size=0.3, random_state=42)\n"
      ],
      "metadata": {
        "id": "Epf_g1VqR_C2"
      },
      "execution_count": null,
      "outputs": []
    },
    {
      "cell_type": "code",
      "source": [
        "# Train a RandomForestClassifier model\n",
        "model = RandomForestClassifier()\n",
        "model.fit(X_train, y_train)\n",
        "\n",
        "# Evaluate the model\n",
        "score = model.score(X_test, y_test)\n",
        "print(\"scikit-learn model accuracy:\", score)\n"
      ],
      "metadata": {
        "colab": {
          "base_uri": "https://localhost:8080/"
        },
        "id": "JkfouvjrStve",
        "outputId": "36a446ee-77bf-4f46-a39e-de092f3646a2"
      },
      "execution_count": null,
      "outputs": [
        {
          "output_type": "stream",
          "name": "stdout",
          "text": [
            "scikit-learn model accuracy: 1.0\n"
          ]
        }
      ]
    },
    {
      "cell_type": "code",
      "source": [
        "from sklearn.metrics import r2_score\n",
        "\n",
        "r2_score(y_test, model.predict(X_test))"
      ],
      "metadata": {
        "colab": {
          "base_uri": "https://localhost:8080/"
        },
        "id": "ozvnSAe-Syos",
        "outputId": "7a877703-38da-485a-e849-94e97ea894cc"
      },
      "execution_count": null,
      "outputs": [
        {
          "output_type": "execute_result",
          "data": {
            "text/plain": [
              "1.0"
            ]
          },
          "metadata": {},
          "execution_count": 17
        }
      ]
    },
    {
      "cell_type": "markdown",
      "source": [
        "## Converting models to deployable formats"
      ],
      "metadata": {
        "id": "ZuODYpupVmh8"
      }
    },
    {
      "cell_type": "markdown",
      "source": [
        "Now we have successfully built and trained our machine learning models, the next crucial step is to convert them into deployable formats suitable for deployment on cloud platforms like AWS. Each machine learning framework often has its own serialization format optimized for deployment. Let's explore how we can convert models built with scikit-learn,"
      ],
      "metadata": {
        "id": "lKD20bgWV1Gc"
      }
    },
    {
      "cell_type": "markdown",
      "source": [
        "### 1. Converting scikit-learn Models to Pickle\n",
        "Scikit-learn models can be serialized using Python's built-in pickle module, which allows us to save the trained model object to a file.\n"
      ],
      "metadata": {
        "id": "bxjh09faV_Zz"
      }
    },
    {
      "cell_type": "code",
      "source": [
        "import pickle\n",
        "\n",
        "# Serialize scikit-learn model to a file using pickle\n",
        "with open('model.pkl', 'wb') as f:\n",
        "    pickle.dump(model, f)\n",
        "\n",
        "print(\"scikit-learn model saved as pickle\")"
      ],
      "metadata": {
        "colab": {
          "base_uri": "https://localhost:8080/"
        },
        "id": "JtwlHBTuV8Vz",
        "outputId": "45e4f815-5e65-4962-afb2-397cef762c23"
      },
      "execution_count": null,
      "outputs": [
        {
          "output_type": "stream",
          "name": "stdout",
          "text": [
            "scikit-learn model saved as pickle\n"
          ]
        }
      ]
    },
    {
      "cell_type": "markdown",
      "source": [
        "### 2. Converting TensorFlow Models to SavedModel\n",
        "TensorFlow models can be saved in the SavedModel format, a serialization format optimized for deployment and serving, using TensorFlow's tf.saved_model.save function."
      ],
      "metadata": {
        "id": "XFXQeO-AWSL3"
      }
    },
    {
      "cell_type": "code",
      "source": [
        "# Save TensorFlow model to SavedModel format\n",
        "tf.saved_model.save(model, 'model_saved')\n",
        "\n",
        "print(\"TensorFlow model saved as SavedModel\")"
      ],
      "metadata": {
        "id": "B-3kcI5YWKx_"
      },
      "execution_count": null,
      "outputs": []
    },
    {
      "cell_type": "markdown",
      "source": [
        "Converting machine learning models to deployable formats is a crucial step in the deployment pipeline. By converting our models to formats like pickle, TorchScript, or SavedModel, we ensure they are optimized for deployment on cloud platforms like AWS. In the next sessions, we'll explore how to deploy these models onto AWS and serve them for real-world applications."
      ],
      "metadata": {
        "id": "gN6ERSNRWkTP"
      }
    },
    {
      "cell_type": "markdown",
      "source": [
        "##reloading the model"
      ],
      "metadata": {
        "id": "m_Oxbe_iXvFY"
      }
    },
    {
      "cell_type": "code",
      "source": [
        "# Load the saved model from pickle\n",
        "with open('model.pkl', 'rb') as f:\n",
        "    loaded_model = pickle.load(f)\n",
        "\n",
        "# Make predictions using the loaded model\n",
        "predictions = loaded_model.predict(X_test)\n",
        "\n",
        "# Evaluate the loaded model\n",
        "score = r2_score(y_test, predictions)\n",
        "print(\"Loaded scikit-learn model accuracy:\", score)\n"
      ],
      "metadata": {
        "id": "vji0eazEXmLh"
      },
      "execution_count": null,
      "outputs": []
    },
    {
      "cell_type": "markdown",
      "source": [
        "## Deploying Machine Learning Models on Flask\n"
      ],
      "metadata": {
        "id": "zvQRIhw_Xils"
      }
    },
    {
      "cell_type": "markdown",
      "source": [
        "Now that we've converted our machine learning models into deployable formats, the next step is to create a web service that can serve these models to users over HTTP. Flask, a lightweight Python web framework, provides an excellent platform for building such web services. Let's see how we can deploy our scikit-learn, PyTorch, and TensorFlow models on Flask."
      ],
      "metadata": {
        "id": "94WZ5N5FX1A9"
      }
    },
    {
      "cell_type": "markdown",
      "source": [
        "1. Flask Setup\n",
        "First, let's set up a Flask application with a route to handle model predictions.\n",
        "2. Serving scikit-learn Models\n",
        "To serve scikit-learn models, we'll load the model inside the Flask application and use it for predictions.\n",
        "\n"
      ],
      "metadata": {
        "id": "6OFaabb_X3vb"
      }
    },
    {
      "cell_type": "code",
      "source": [
        "from flask import Flask, request, jsonify\n",
        "import pickle\n",
        "\n",
        "# Load scikit-learn model\n",
        "with open('model.pkl', 'rb') as f:\n",
        "    model = pickle.load(f)\n",
        "\n",
        "app = Flask(__name__)\n",
        "\n",
        "\n",
        "@app.route('/predict', methods=['POST'])\n",
        "def predict():\n",
        "    # Extract input data from request\n",
        "    data = request.json\n",
        "\n",
        "    # Perform prediction using the model (replace with your model prediction code)\n",
        "    prediction = model.predict(data['features'])\n",
        "\n",
        "    # Return prediction as JSON response\n",
        "    return jsonify({'prediction': prediction.tolist()})\n",
        "\n",
        "if __name__ == '__main__':\n",
        "    app.run(debug=True)\n"
      ],
      "metadata": {
        "id": "VjoLGWYCWdyr"
      },
      "execution_count": null,
      "outputs": []
    },
    {
      "cell_type": "markdown",
      "source": [
        "## Deploying Machine Learning Models on Gradio\n",
        "\n",
        "Gradio is a Python library that allows for easy deployment of machine learning models with a user-friendly interface. It enables developers to create interactive web-based UIs for their models with minimal code. Let's see how we can deploy our scikit-learn, PyTorch, and TensorFlow models on Gradio.\n",
        "\n",
        "1. Installation\n",
        "First, make sure you have Gradio installed. You can install it via pip:"
      ],
      "metadata": {
        "id": "IyhmS-jOYoNW"
      }
    },
    {
      "cell_type": "code",
      "source": [
        "!pip install gradio"
      ],
      "metadata": {
        "id": "d1TjTD2oYFHo"
      },
      "execution_count": null,
      "outputs": []
    },
    {
      "cell_type": "markdown",
      "source": [
        "2. Serving scikit-learn Models\n",
        "To serve scikit-learn models on Gradio, we'll define a function that takes input data and returns predictions."
      ],
      "metadata": {
        "id": "nYdrSx1GY4IR"
      }
    },
    {
      "cell_type": "code",
      "source": [
        "import gradio as gr\n",
        "\n",
        "def predict_sklearn(features):\n",
        "    # Perform prediction using the scikit-learn model (replace with your model prediction code)\n",
        "    prediction = model.predict([features])\n",
        "    return prediction[0]\n"
      ],
      "metadata": {
        "id": "iGGsAkjpY8La"
      },
      "execution_count": null,
      "outputs": []
    },
    {
      "cell_type": "markdown",
      "source": [
        "Then, we'll create an interface using Gradio:"
      ],
      "metadata": {
        "id": "DQskhivOkf4Y"
      }
    },
    {
      "cell_type": "code",
      "source": [
        "# Define input and output components\n",
        "input_component = gr.inputs.Textbox(lines=4, label=\"Input Features (comma-separated)\")\n",
        "output_component = gr.outputs.Label(num_top_classes=1)\n",
        "\n",
        "# Create an interface\n",
        "sklearn_interface = gr.Interface(fn=predict_sklearn, inputs=input_component, outputs=output_component)\n",
        "\n",
        "# Launch the interface\n",
        "sklearn_interface.launch()"
      ],
      "metadata": {
        "id": "Qrm1gGWRY-nP"
      },
      "execution_count": null,
      "outputs": []
    },
    {
      "cell_type": "markdown",
      "source": [
        "Serving TensorFlow Models\n",
        "Similarly, for TensorFlow models: the process is similar. We'll define a function for prediction and create a Gradio interface."
      ],
      "metadata": {
        "id": "yv2cT8U_kjo2"
      }
    },
    {
      "cell_type": "markdown",
      "source": [
        "you can use a for loop to create input components for each feature."
      ],
      "metadata": {
        "id": "3wpokqwVkzgx"
      }
    },
    {
      "cell_type": "code",
      "source": [
        "import gradio as gr\n",
        "\n",
        "def predict_sklearn(features):\n",
        "    # Perform prediction using the scikit-learn model (replace with your model prediction code)\n",
        "    prediction = model.predict([features])\n",
        "    return prediction[0]\n",
        "\n",
        "# Define input components for each feature\n",
        "input_components = [gr.inputs.Textbox(label=f\"Feature {i+1}\") for i in range(len(iris.feature_names))]\n",
        "\n",
        "# Create an interface with input components and a single output component\n",
        "sklearn_interface = gr.Interface(fn=predict_sklearn, inputs=input_components, outputs=gr.outputs.Label(num_top_classes=1))\n",
        "\n",
        "# Launch the interface\n",
        "sklearn_interface.launch()"
      ],
      "metadata": {
        "id": "QgWEBaIdksRz"
      },
      "execution_count": null,
      "outputs": []
    },
    {
      "cell_type": "markdown",
      "source": [
        "## Deploying a machine learning model on an EC2 Instance"
      ],
      "metadata": {
        "id": "0kvsBdB-lHyh"
      }
    },
    {
      "cell_type": "markdown",
      "source": [
        "Deploying a machine learning model on an EC2 instance involves setting up a web server to serve the model predictions. We'll use Flask for this purpose, as it's lightweight and easy to deploy. Here's how you can deploy a Flask web server serving your machine learning model on an EC2 instance you already have the ec2 instamce running if not check this tutorials [Setting up EC2 instance](https://www.youtube.com/watch?v=0Gz-PUnEUF0):\n",
        "\n",
        "### Setting Up Flask Application\n",
        "1. **Install Flask**: If you haven't already, install Flask on your local machine:\n",
        "\n",
        "    ```console\n",
        "    pip install flask\n",
        "    ```\n",
        "\n",
        "2. **Create Flask Application**: Create a Python file (e.g., `app.py`) for your Flask application and define routes to serve model predictions.\n",
        "\n",
        "    ```python\n",
        "    from flask import Flask, request, jsonify\n",
        "\n",
        "    app = Flask(__name__)\n",
        "\n",
        "    @app.route('/predict', methods=['POST'])\n",
        "    def predict():\n",
        "        # Extract input data from request\n",
        "        data = request.json\n",
        "        \n",
        "        # Perform prediction using the model (replace with your model prediction code)\n",
        "        prediction = model.predict(data['features'])\n",
        "        \n",
        "        # Return prediction as JSON response\n",
        "        return jsonify({'prediction': prediction.tolist()})\n",
        "\n",
        "    if __name__ == '__main__':\n",
        "        app.run(host='0.0.0.0', port=5000)\n",
        "    ```\n",
        "\n",
        "### Setting Up EC2 Instance\n",
        "\n",
        "1. **Launch EC2 Instance**: Launch an EC2 instance on AWS. Make sure to select an appropriate instance type and configure security groups to allow inbound traffic on port 5000 (or any other port you specify in your Flask application).\n",
        "\n",
        "2. **Connect to EC2 Instance**: Connect to your EC2 instance using SSH.\n",
        "\n",
        "### Deploying Flask Application\n",
        "\n",
        "1. **Copy Flask Application Files**: Transfer your Flask application files (`app.py`, and any other necessary files like model files) to your EC2 instance using SCP or any other file transfer method.\n",
        "\n",
        "2. **Install Dependencies**: SSH into your EC2 instance and install necessary dependencies (e.g., Flask).\n",
        "\n",
        "    ```\n",
        "    sudo apt-get update\n",
        "    sudo apt-get install python3-pip\n",
        "    pip3 install flask\n",
        "    ```\n",
        "\n",
        "3. **Run Flask Application**: Run your Flask application on the EC2 instance.\n",
        "\n",
        "    ```\n",
        "    export FLASK_APP=app.py\n",
        "    flask run --host=0.0.0.0 --port=5000\n",
        "    ```\n",
        "\n",
        "### Accessing the Flask Application\n",
        "\n",
        "Once your Flask application is running on the EC2 instance, you can access it using the public IP address or DNS name of your EC2 instance, followed by the port number (e.g., `http://ec2-xx-xx-xx-xx.compute-1.amazonaws.com:5000/predict`). Make sure to replace `xx-xx-xx-xx` with the actual IP address of your EC2 instance.\n",
        "\n",
        "### Conclusion\n",
        "\n",
        "In this deployment, we set up a Flask web server on an EC2 instance to serve predictions from a machine learning model. This setup provides a scalable solution for deploying machine learning models in production environments on AWS. Make sure to handle security considerations such as authentication and authorization, as well as scaling requirements based on your application's needs."
      ],
      "metadata": {
        "id": "Gy_M3St0lKE3"
      }
    },
    {
      "cell_type": "code",
      "source": [
        "pip install flask"
      ],
      "metadata": {
        "id": "va_C3n96lJDm"
      },
      "execution_count": null,
      "outputs": []
    },
    {
      "cell_type": "markdown",
      "source": [],
      "metadata": {
        "id": "2CrKGPnPmMP_"
      }
    }
  ]
}